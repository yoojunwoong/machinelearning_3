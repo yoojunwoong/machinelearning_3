{
  "nbformat": 4,
  "nbformat_minor": 0,
  "metadata": {
    "colab": {
      "name": "Untitled1.ipynb",
      "provenance": [],
      "authorship_tag": "ABX9TyMqlRw7JV0k8czRadlA20Gp",
      "include_colab_link": true
    },
    "kernelspec": {
      "name": "python3",
      "display_name": "Python 3"
    },
    "language_info": {
      "name": "python"
    }
  },
  "cells": [
    {
      "cell_type": "markdown",
      "metadata": {
        "id": "view-in-github",
        "colab_type": "text"
      },
      "source": [
        "<a href=\"https://colab.research.google.com/github/yoojunwoong/machinelearning_3/blob/master/wholesale_decisiontreeclassification.ipynb\" target=\"_parent\"><img src=\"https://colab.research.google.com/assets/colab-badge.svg\" alt=\"Open In Colab\"/></a>"
      ]
    },
    {
      "cell_type": "code",
      "metadata": {
        "colab": {
          "base_uri": "https://localhost:8080/"
        },
        "id": "LqnktTareUXC",
        "outputId": "c62af789-a572-47cb-d635-7d521595f164"
      },
      "source": [
        "!ls #리눅스"
      ],
      "execution_count": 1,
      "outputs": [
        {
          "output_type": "stream",
          "text": [
            "sample_data  Wholesale_customers_data.csv\n"
          ],
          "name": "stdout"
        }
      ]
    },
    {
      "cell_type": "code",
      "metadata": {
        "colab": {
          "base_uri": "https://localhost:8080/"
        },
        "id": "O9D29yNrfX7K",
        "outputId": "1e619b0c-3ad5-4e51-9aad-c6341731074d"
      },
      "source": [
        "!ls -l       #detail list"
      ],
      "execution_count": 2,
      "outputs": [
        {
          "output_type": "stream",
          "text": [
            "total 20\n",
            "drwxr-xr-x 1 root root  4096 Jun 15 13:37 sample_data\n",
            "-rw-r--r-- 1 root root 15021 Jul  2 04:45 Wholesale_customers_data.csv\n"
          ],
          "name": "stdout"
        }
      ]
    },
    {
      "cell_type": "code",
      "metadata": {
        "colab": {
          "base_uri": "https://localhost:8080/"
        },
        "id": "VAr9V3VBfgw2",
        "outputId": "0bad7d61-aeaf-4a3d-8370-b0bc5a860d57"
      },
      "source": [
        "!pwd #리눅스"
      ],
      "execution_count": 3,
      "outputs": [
        {
          "output_type": "stream",
          "text": [
            "/content\n"
          ],
          "name": "stdout"
        }
      ]
    },
    {
      "cell_type": "code",
      "metadata": {
        "colab": {
          "base_uri": "https://localhost:8080/"
        },
        "id": "15xBYfZPfwjR",
        "outputId": "89085ec0-df74-4f6c-8d85-e25bcdf40d8f"
      },
      "source": [
        "!ls -l ./sample_data"
      ],
      "execution_count": 4,
      "outputs": [
        {
          "output_type": "stream",
          "text": [
            "total 55504\n",
            "-rwxr-xr-x 1 root root     1697 Jan  1  2000 anscombe.json\n",
            "-rw-r--r-- 1 root root   301141 Jun 15 13:37 california_housing_test.csv\n",
            "-rw-r--r-- 1 root root  1706430 Jun 15 13:37 california_housing_train.csv\n",
            "-rw-r--r-- 1 root root 18289443 Jun 15 13:37 mnist_test.csv\n",
            "-rw-r--r-- 1 root root 36523880 Jun 15 13:37 mnist_train_small.csv\n",
            "-rwxr-xr-x 1 root root      930 Jan  1  2000 README.md\n"
          ],
          "name": "stdout"
        }
      ]
    },
    {
      "cell_type": "code",
      "metadata": {
        "id": "Qups0UAPguvq"
      },
      "source": [
        "# -의 의미는 file의 의미,  명령어의 맨앞과 맨뒤를 잘 볼것..."
      ],
      "execution_count": 5,
      "outputs": []
    },
    {
      "cell_type": "code",
      "metadata": {
        "colab": {
          "base_uri": "https://localhost:8080/"
        },
        "id": "ZhucCL98hb0X",
        "outputId": "7871ac43-393a-4ea3-df5a-314e3ceb2cff"
      },
      "source": [
        "!ls -l ./Wholesale.xls"
      ],
      "execution_count": 37,
      "outputs": [
        {
          "output_type": "stream",
          "text": [
            "ls: cannot access './Wholesale.xls': No such file or directory\n"
          ],
          "name": "stdout"
        }
      ]
    },
    {
      "cell_type": "code",
      "metadata": {
        "colab": {
          "base_uri": "https://localhost:8080/"
        },
        "id": "97bWSwfUioFM",
        "outputId": "edafbb6b-f64f-475b-b124-c58c5d0176eb"
      },
      "source": [
        "import pandas as pd\n",
        "df = pd.read_excel('./wholesale.xls')\n",
        "df.info()"
      ],
      "execution_count": 39,
      "outputs": [
        {
          "output_type": "stream",
          "text": [
            "<class 'pandas.core.frame.DataFrame'>\n",
            "RangeIndex: 440 entries, 0 to 439\n",
            "Data columns (total 10 columns):\n",
            " #   Column            Non-Null Count  Dtype\n",
            "---  ------            --------------  -----\n",
            " 0   Unnamed: 0        440 non-null    int64\n",
            " 1   Channel           440 non-null    int64\n",
            " 2   Region            440 non-null    int64\n",
            " 3   Fresh             440 non-null    int64\n",
            " 4   Milk              440 non-null    int64\n",
            " 5   Grocery           440 non-null    int64\n",
            " 6   Frozen            440 non-null    int64\n",
            " 7   Detergents_Paper  440 non-null    int64\n",
            " 8   Delicassen        440 non-null    int64\n",
            " 9   label             440 non-null    int64\n",
            "dtypes: int64(10)\n",
            "memory usage: 34.5 KB\n"
          ],
          "name": "stdout"
        }
      ]
    },
    {
      "cell_type": "code",
      "metadata": {
        "colab": {
          "base_uri": "https://localhost:8080/",
          "height": 142
        },
        "id": "LyH4yql78Kcm",
        "outputId": "c7c40821-43aa-4d52-de4a-59be31d2cf8c"
      },
      "source": [
        "df.head(3)"
      ],
      "execution_count": 40,
      "outputs": [
        {
          "output_type": "execute_result",
          "data": {
            "text/html": [
              "<div>\n",
              "<style scoped>\n",
              "    .dataframe tbody tr th:only-of-type {\n",
              "        vertical-align: middle;\n",
              "    }\n",
              "\n",
              "    .dataframe tbody tr th {\n",
              "        vertical-align: top;\n",
              "    }\n",
              "\n",
              "    .dataframe thead th {\n",
              "        text-align: right;\n",
              "    }\n",
              "</style>\n",
              "<table border=\"1\" class=\"dataframe\">\n",
              "  <thead>\n",
              "    <tr style=\"text-align: right;\">\n",
              "      <th></th>\n",
              "      <th>Unnamed: 0</th>\n",
              "      <th>Channel</th>\n",
              "      <th>Region</th>\n",
              "      <th>Fresh</th>\n",
              "      <th>Milk</th>\n",
              "      <th>Grocery</th>\n",
              "      <th>Frozen</th>\n",
              "      <th>Detergents_Paper</th>\n",
              "      <th>Delicassen</th>\n",
              "      <th>label</th>\n",
              "    </tr>\n",
              "  </thead>\n",
              "  <tbody>\n",
              "    <tr>\n",
              "      <th>0</th>\n",
              "      <td>0</td>\n",
              "      <td>2</td>\n",
              "      <td>3</td>\n",
              "      <td>12669</td>\n",
              "      <td>9656</td>\n",
              "      <td>7561</td>\n",
              "      <td>214</td>\n",
              "      <td>2674</td>\n",
              "      <td>1338</td>\n",
              "      <td>1</td>\n",
              "    </tr>\n",
              "    <tr>\n",
              "      <th>1</th>\n",
              "      <td>1</td>\n",
              "      <td>2</td>\n",
              "      <td>3</td>\n",
              "      <td>7057</td>\n",
              "      <td>9810</td>\n",
              "      <td>9568</td>\n",
              "      <td>1762</td>\n",
              "      <td>3293</td>\n",
              "      <td>1776</td>\n",
              "      <td>1</td>\n",
              "    </tr>\n",
              "    <tr>\n",
              "      <th>2</th>\n",
              "      <td>2</td>\n",
              "      <td>2</td>\n",
              "      <td>3</td>\n",
              "      <td>6353</td>\n",
              "      <td>8808</td>\n",
              "      <td>7684</td>\n",
              "      <td>2405</td>\n",
              "      <td>3516</td>\n",
              "      <td>7844</td>\n",
              "      <td>1</td>\n",
              "    </tr>\n",
              "  </tbody>\n",
              "</table>\n",
              "</div>"
            ],
            "text/plain": [
              "   Unnamed: 0  Channel  Region  ...  Detergents_Paper  Delicassen  label\n",
              "0           0        2       3  ...              2674        1338      1\n",
              "1           1        2       3  ...              3293        1776      1\n",
              "2           2        2       3  ...              3516        7844      1\n",
              "\n",
              "[3 rows x 10 columns]"
            ]
          },
          "metadata": {
            "tags": []
          },
          "execution_count": 40
        }
      ]
    },
    {
      "cell_type": "code",
      "metadata": {
        "colab": {
          "base_uri": "https://localhost:8080/"
        },
        "id": "OOoxly8X806g",
        "outputId": "5309e3e9-046c-4a45-de62-ce8d64f6d714"
      },
      "source": [
        "y = df['label']\n",
        "x = df.iloc[:,1:9]\n",
        "y.shape,  x.shape"
      ],
      "execution_count": 42,
      "outputs": [
        {
          "output_type": "execute_result",
          "data": {
            "text/plain": [
              "((440,), (440, 8))"
            ]
          },
          "metadata": {
            "tags": []
          },
          "execution_count": 42
        }
      ]
    },
    {
      "cell_type": "code",
      "metadata": {
        "colab": {
          "base_uri": "https://localhost:8080/"
        },
        "id": "ALS9koJA9SZZ",
        "outputId": "c825dc9b-d63b-486b-b722-d28ed4b403e8"
      },
      "source": [
        "from sklearn.tree import DecisionTreeClassifier\n",
        "dtree = DecisionTreeClassifier()\n",
        "dtree.fit(x,y)"
      ],
      "execution_count": 43,
      "outputs": [
        {
          "output_type": "execute_result",
          "data": {
            "text/plain": [
              "DecisionTreeClassifier(ccp_alpha=0.0, class_weight=None, criterion='gini',\n",
              "                       max_depth=None, max_features=None, max_leaf_nodes=None,\n",
              "                       min_impurity_decrease=0.0, min_impurity_split=None,\n",
              "                       min_samples_leaf=1, min_samples_split=2,\n",
              "                       min_weight_fraction_leaf=0.0, presort='deprecated',\n",
              "                       random_state=None, splitter='best')"
            ]
          },
          "metadata": {
            "tags": []
          },
          "execution_count": 43
        }
      ]
    },
    {
      "cell_type": "code",
      "metadata": {
        "colab": {
          "base_uri": "https://localhost:8080/"
        },
        "id": "RJ3ylyZL99sH",
        "outputId": "8a54eae4-0ab9-4cf0-a2fc-c7b92396947d"
      },
      "source": [
        "dtree.score(x,y)"
      ],
      "execution_count": 44,
      "outputs": [
        {
          "output_type": "execute_result",
          "data": {
            "text/plain": [
              "1.0"
            ]
          },
          "metadata": {
            "tags": []
          },
          "execution_count": 44
        }
      ]
    },
    {
      "cell_type": "code",
      "metadata": {
        "id": "X4WGWICA-Fys"
      },
      "source": [
        ""
      ],
      "execution_count": null,
      "outputs": []
    }
  ]
}