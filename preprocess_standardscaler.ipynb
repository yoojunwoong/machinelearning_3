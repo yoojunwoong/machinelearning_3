{
 "cells": [
  {
   "cell_type": "markdown",
   "id": "d939b5df",
   "metadata": {},
   "source": [
    "0  1\n",
    "------\n",
    "0 | 0\n",
    "0 | 0\n",
    "1 | 1\n",
    "1 | 1"
   ]
  },
  {
   "cell_type": "code",
   "execution_count": 2,
   "id": "539a4611",
   "metadata": {},
   "outputs": [],
   "source": [
    ">>> data = [[0, 0], [0, 0], [1, 1], [1, 1]]"
   ]
  },
  {
   "cell_type": "code",
   "execution_count": 3,
   "id": "702953cb",
   "metadata": {},
   "outputs": [],
   "source": [
    ">>> from sklearn.preprocessing import StandardScaler\n",
    ">>> scaler = StandardScaler()"
   ]
  },
  {
   "cell_type": "code",
   "execution_count": 4,
   "id": "5572ed82",
   "metadata": {},
   "outputs": [
    {
     "name": "stdout",
     "output_type": "stream",
     "text": [
      "StandardScaler()\n"
     ]
    }
   ],
   "source": [
    ">>> print(scaler.fit(data))             #fit은 데이터값x, 데이터기반으로 rule을 갖고있음.  >>> transform을 하여 바꿔줘야함"
   ]
  },
  {
   "cell_type": "code",
   "execution_count": 5,
   "id": "014448be",
   "metadata": {},
   "outputs": [
    {
     "name": "stdout",
     "output_type": "stream",
     "text": [
      "[0.5 0.5]\n"
     ]
    }
   ],
   "source": [
    ">>> print(scaler.mean_)"
   ]
  },
  {
   "cell_type": "code",
   "execution_count": 6,
   "id": "ac1e638c",
   "metadata": {},
   "outputs": [
    {
     "name": "stdout",
     "output_type": "stream",
     "text": [
      "[[-1. -1.]\n",
      " [-1. -1.]\n",
      " [ 1.  1.]\n",
      " [ 1.  1.]]\n"
     ]
    }
   ],
   "source": [
    ">>> print(scaler.transform(data))"
   ]
  },
  {
   "cell_type": "code",
   "execution_count": 7,
   "id": "0f196b8d",
   "metadata": {},
   "outputs": [
    {
     "name": "stdout",
     "output_type": "stream",
     "text": [
      "[[3. 3.]]\n"
     ]
    }
   ],
   "source": [
    ">>> print(scaler.transform([[2, 2]]))"
   ]
  },
  {
   "cell_type": "code",
   "execution_count": null,
   "id": "ecd6dc48",
   "metadata": {},
   "outputs": [],
   "source": []
  }
 ],
 "metadata": {
  "kernelspec": {
   "display_name": "Python 3",
   "language": "python",
   "name": "python3"
  },
  "language_info": {
   "codemirror_mode": {
    "name": "ipython",
    "version": 3
   },
   "file_extension": ".py",
   "mimetype": "text/x-python",
   "name": "python",
   "nbconvert_exporter": "python",
   "pygments_lexer": "ipython3",
   "version": "3.6.4"
  }
 },
 "nbformat": 4,
 "nbformat_minor": 5
}
